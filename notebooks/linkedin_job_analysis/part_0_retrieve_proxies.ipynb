{
 "cells": [
  {
   "cell_type": "code",
   "execution_count": 2,
   "metadata": {
    "colab": {
     "base_uri": "https://localhost:8080/"
    },
    "executionInfo": {
     "elapsed": 1854,
     "status": "ok",
     "timestamp": 1676043550891,
     "user": {
      "displayName": "Guillaume",
      "userId": "06398127721149676426"
     },
     "user_tz": -60
    },
    "id": "Si_ByreCh4LS",
    "outputId": "2fef8584-3bca-4d10-9806-6d09a15fb8ed",
    "tags": []
   },
   "outputs": [],
   "source": [
    "import requests\n",
    "import pandas as pd\n",
    "from bs4 import BeautifulSoup\n",
    "\n",
    "# Get the page containing the list of proxies\n",
    "url = 'https://free-proxy-list.net/'\n",
    "response = requests.get(url)\n",
    "soup = BeautifulSoup(response.text, 'html.parser')\n",
    "\n",
    "# Find the table containing the list of proxies\n",
    "table = soup.find('table')\n",
    "\n",
    "# Get the rows of the table\n",
    "rows = table.tbody.find_all('tr')\n",
    "\n",
    "# Extract the proxy details from each row\n",
    "proxies = {'ip' : [], 'port' : [], 'type' : [], 'country' : []}\n",
    "for row in rows:\n",
    "    columns = row.find_all('td')\n",
    "    # print(row)\n",
    "    proxies['ip'].append(columns[0].text)\n",
    "    proxies['port'].append(columns[1].text)\n",
    "    proxies['type'].append(columns[4].text)\n",
    "    proxies['country'].append(columns[3].text)\n",
    "\n",
    "# Print the list of proxies\n",
    "# print(proxies)"
   ]
  },
  {
   "cell_type": "code",
   "execution_count": 3,
   "metadata": {
    "colab": {
     "base_uri": "https://localhost:8080/",
     "height": 206
    },
    "executionInfo": {
     "elapsed": 249,
     "status": "ok",
     "timestamp": 1676036922834,
     "user": {
      "displayName": "Guillaume",
      "userId": "06398127721149676426"
     },
     "user_tz": -60
    },
    "id": "enK__-hKjiEi",
    "outputId": "0b276878-5bd9-45d2-b82a-41835f2de5c8",
    "tags": []
   },
   "outputs": [
    {
     "data": {
      "text/html": [
       "<div>\n",
       "<style scoped>\n",
       "    .dataframe tbody tr th:only-of-type {\n",
       "        vertical-align: middle;\n",
       "    }\n",
       "\n",
       "    .dataframe tbody tr th {\n",
       "        vertical-align: top;\n",
       "    }\n",
       "\n",
       "    .dataframe thead th {\n",
       "        text-align: right;\n",
       "    }\n",
       "</style>\n",
       "<table border=\"1\" class=\"dataframe\">\n",
       "  <thead>\n",
       "    <tr style=\"text-align: right;\">\n",
       "      <th></th>\n",
       "      <th>ip</th>\n",
       "      <th>port</th>\n",
       "      <th>type</th>\n",
       "      <th>country</th>\n",
       "    </tr>\n",
       "  </thead>\n",
       "  <tbody>\n",
       "    <tr>\n",
       "      <th>0</th>\n",
       "      <td>68.178.161.107</td>\n",
       "      <td>80</td>\n",
       "      <td>elite proxy</td>\n",
       "      <td>India</td>\n",
       "    </tr>\n",
       "    <tr>\n",
       "      <th>1</th>\n",
       "      <td>150.242.108.6</td>\n",
       "      <td>32650</td>\n",
       "      <td>elite proxy</td>\n",
       "      <td>Timor-Leste</td>\n",
       "    </tr>\n",
       "    <tr>\n",
       "      <th>2</th>\n",
       "      <td>178.151.205.154</td>\n",
       "      <td>45099</td>\n",
       "      <td>elite proxy</td>\n",
       "      <td>Ukraine</td>\n",
       "    </tr>\n",
       "    <tr>\n",
       "      <th>3</th>\n",
       "      <td>195.110.59.82</td>\n",
       "      <td>80</td>\n",
       "      <td>elite proxy</td>\n",
       "      <td>United Kingdom</td>\n",
       "    </tr>\n",
       "    <tr>\n",
       "      <th>4</th>\n",
       "      <td>121.78.138.99</td>\n",
       "      <td>80</td>\n",
       "      <td>anonymous</td>\n",
       "      <td>South Korea</td>\n",
       "    </tr>\n",
       "  </tbody>\n",
       "</table>\n",
       "</div>"
      ],
      "text/plain": [
       "                ip   port         type         country\n",
       "0   68.178.161.107     80  elite proxy           India\n",
       "1    150.242.108.6  32650  elite proxy     Timor-Leste\n",
       "2  178.151.205.154  45099  elite proxy         Ukraine\n",
       "3    195.110.59.82     80  elite proxy  United Kingdom\n",
       "4    121.78.138.99     80    anonymous     South Korea"
      ]
     },
     "execution_count": 3,
     "metadata": {},
     "output_type": "execute_result"
    }
   ],
   "source": [
    "df = pd.DataFrame.from_dict(proxies)\n",
    "df.head()"
   ]
  },
  {
   "cell_type": "code",
   "execution_count": 5,
   "metadata": {
    "id": "i8Ls0YFxlfWL",
    "tags": []
   },
   "outputs": [],
   "source": [
    "#savepath = \"/workspaces/codespaces-jupyter/data/linkedin_job_analysis/part_0_proxies.csv\"\n",
    "savepath = \"./tmp/part_0_proxies.csv\"\n",
    "df.to_csv(savepath, sep=\";\", index=False)"
   ]
  }
 ],
 "metadata": {
  "colab": {
   "authorship_tag": "ABX9TyNtpkrvqP6v7D4/FId59OQM",
   "mount_file_id": "1tZXPNkw2osUsC0H4yhLFG3fky5Dafk7b",
   "provenance": []
  },
  "kernelspec": {
   "display_name": "Python 3 (ipykernel)",
   "language": "python",
   "name": "python3"
  },
  "language_info": {
   "codemirror_mode": {
    "name": "ipython",
    "version": 3
   },
   "file_extension": ".py",
   "mimetype": "text/x-python",
   "name": "python",
   "nbconvert_exporter": "python",
   "pygments_lexer": "ipython3",
   "version": "3.10.6"
  }
 },
 "nbformat": 4,
 "nbformat_minor": 4
}
