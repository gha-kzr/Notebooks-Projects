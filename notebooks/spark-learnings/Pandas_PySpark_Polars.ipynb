{
 "cells": [
  {
   "cell_type": "markdown",
   "id": "ffb5b0bf-24ac-40bc-ba08-3ac27411e484",
   "metadata": {},
   "source": [
    "## Pandas"
   ]
  },
  {
   "cell_type": "code",
   "execution_count": null,
   "id": "4a384d3a",
   "metadata": {},
   "outputs": [],
   "source": [
    "%pip install polars\n",
    "%pip install findspark \n",
    "%pip install pyarrow"
   ]
  },
  {
   "cell_type": "code",
   "execution_count": 1,
   "id": "1045b947-ba19-4429-b388-7bdd56c42e61",
   "metadata": {},
   "outputs": [
    {
     "name": "stdout",
     "output_type": "stream",
     "text": [
      "DF has 9071244 rows.\n",
      "                           total_amount  fare_amount  tolls_amount  \\\n",
      "PULocationID DOLocationID                                            \n",
      "132          265              999767.75    843313.70      40627.84   \n",
      "264          264              934169.06    694876.74      17985.22   \n",
      "132          230              907339.59    661641.49      79032.16   \n",
      "             48               716210.62    527388.55      61830.82   \n",
      "107          140              485199.97    457340.21          6.55   \n",
      "237          236              743588.54    416130.20         30.65   \n",
      "236          237              669666.38    388055.32         26.21   \n",
      "132          132              463789.81    379919.64       7459.92   \n",
      "138          230              566962.72    368040.00      68523.69   \n",
      "132          164              508147.13    365589.50      45369.58   \n",
      "\n",
      "                           tip_amount  congestion_surcharge  trip_distance  \n",
      "PULocationID DOLocationID                                                   \n",
      "132          265             91104.56                 775.0      21.489116  \n",
      "264          264            122516.65               49505.0       2.798411  \n",
      "132          230             97780.44               31515.0      18.320027  \n",
      "             48              73087.85               25145.0      19.112491  \n",
      "107          140             10980.61               11380.0      28.126166  \n",
      "237          236            102199.54              154310.0       1.090807  \n",
      "236          237             91094.65              131405.0       1.645646  \n",
      "132          132             49350.00                 982.5       1.741092  \n",
      "138          230             78404.78               27047.5      10.486981  \n",
      "132          164             59594.00               17445.0      17.440484  \n",
      "Runtime: 0:00:04.063044\n"
     ]
    }
   ],
   "source": [
    "from datetime import datetime\n",
    "from glob import glob\n",
    "\n",
    "from pandas import concat\n",
    "from pandas import read_parquet\n",
    "\n",
    "start = datetime.now()\n",
    "\n",
    "#df = concat(map(read_parquet, glob(\"/workspaces/codespaces-jupyter/data/yellow_tripdata_202*-*.parquet\")))\n",
    "df1 = read_parquet(\"/workspaces/codespaces-jupyter/data/yellow_tripdata_2022-01.parquet\")\n",
    "df2 = read_parquet(\"/workspaces/codespaces-jupyter/data/yellow_tripdata_2022-02.parquet\")\n",
    "df3 = read_parquet(\"/workspaces/codespaces-jupyter/data/yellow_tripdata_2022-03.parquet\")\n",
    "#df4 = read_parquet(\"/workspaces/codespaces-jupyter/data/yellow_tripdata_2022-04.parquet\")\n",
    "df = concat([df1, df2, df3])\n",
    "\n",
    "print(f\"DF has {len(df)} rows.\")\n",
    "\n",
    "res = (\n",
    "    df.groupby([\"PULocationID\", \"DOLocationID\"])\n",
    "    .agg(\n",
    "        {\n",
    "            \"total_amount\": \"sum\",\n",
    "            \"fare_amount\": \"sum\",\n",
    "            \"tolls_amount\": \"sum\",\n",
    "            \"tip_amount\": \"sum\",\n",
    "            \"congestion_surcharge\": \"sum\",\n",
    "            \"trip_distance\": \"mean\",\n",
    "        }\n",
    "    )\n",
    "    .sort_values(by=\"fare_amount\", ascending=False)\n",
    "    .head(10)\n",
    ")\n",
    "print(res)\n",
    "print(f\"Runtime: {datetime.now() - start}\")"
   ]
  },
  {
   "cell_type": "markdown",
   "id": "50908c78-5edb-46c6-adbb-a585fd6ec737",
   "metadata": {},
   "source": [
    "## Polars\n",
    "\n",
    "### Note: Restarted the kernel here."
   ]
  },
  {
   "cell_type": "code",
   "execution_count": 1,
   "id": "18bf738f-aa66-4a2e-9887-326698f51b48",
   "metadata": {},
   "outputs": [
    {
     "name": "stdout",
     "output_type": "stream",
     "text": [
      "DF has 9071244 rows.\n",
      "shape: (10, 9)\n",
      "┌────────────┬────────────┬─────────┬────────────┬─────┬────────────┬──────────┬────────────┬────────────┐\n",
      "│ DOLocation ┆ PULocation ┆ literal ┆ total_amou ┆ ... ┆ tolls_amou ┆ tip_amou ┆ congestion ┆ trip_dista │\n",
      "│ ID         ┆ ID         ┆ ---     ┆ nt         ┆     ┆ nt         ┆ nt       ┆ _surcharge ┆ nce        │\n",
      "│ ---        ┆ ---        ┆ bool    ┆ ---        ┆     ┆ ---        ┆ ---      ┆ ---        ┆ ---        │\n",
      "│ i64        ┆ i64        ┆         ┆ f64        ┆     ┆ f64        ┆ f64      ┆ f64        ┆ f64        │\n",
      "╞════════════╪════════════╪═════════╪════════════╪═════╪════════════╪══════════╪════════════╪════════════╡\n",
      "│ 265        ┆ 132        ┆ false   ┆ 923458.15  ┆ ... ┆ 37412.54   ┆ 84490.67 ┆ 702.5      ┆ 21.503692  │\n",
      "│ 264        ┆ 264        ┆ false   ┆ 858368.73  ┆ ... ┆ 16668.64   ┆ 112291.2 ┆ 45352.5    ┆ 2.797454   │\n",
      "│            ┆            ┆         ┆            ┆     ┆            ┆ 2        ┆            ┆            │\n",
      "│ 230        ┆ 132        ┆ false   ┆ 827802.22  ┆ ... ┆ 72197.73   ┆ 89204.1  ┆ 28750.0    ┆ 18.275196  │\n",
      "│ 48         ┆ 132        ┆ false   ┆ 658890.81  ┆ ... ┆ 56930.81   ┆ 67567.65 ┆ 23115.0    ┆ 19.17533   │\n",
      "│ ...        ┆ ...        ┆ ...     ┆ ...        ┆ ... ┆ ...        ┆ ...      ┆ ...        ┆ ...        │\n",
      "│ 237        ┆ 236        ┆ false   ┆ 617073.8   ┆ ... ┆ 26.21      ┆ 84034.34 ┆ 120905.0   ┆ 1.694299   │\n",
      "│ 132        ┆ 132        ┆ false   ┆ 428462.6   ┆ ... ┆ 6933.06    ┆ 45430.37 ┆ 935.0      ┆ 1.752437   │\n",
      "│ 230        ┆ 138        ┆ false   ┆ 524167.62  ┆ ... ┆ 63344.75   ┆ 72622.12 ┆ 24990.0    ┆ 10.4901    │\n",
      "│ 164        ┆ 132        ┆ false   ┆ 465597.89  ┆ ... ┆ 41610.21   ┆ 54579.53 ┆ 16000.0    ┆ 17.4369    │\n",
      "└────────────┴────────────┴─────────┴────────────┴─────┴────────────┴──────────┴────────────┴────────────┘\n",
      "Runtime: 0:00:02.632895\n"
     ]
    }
   ],
   "source": [
    "import polars as pl\n",
    "from datetime import datetime\n",
    "\n",
    "start = datetime.now()\n",
    "\n",
    "df = pl.read_parquet(\"/workspaces/codespaces-jupyter/data/yellow_tripdata_2022-0*.parquet\")\n",
    "\n",
    "print(f\"DF has {len(df)} rows.\")\n",
    "\n",
    "res = (\n",
    "    df.groupby([\"DOLocationID\",\"PULocationID\"],False)\n",
    "    .agg([\n",
    "        pl.col(\"total_amount\").sum(),\n",
    "        pl.col(\"fare_amount\").sum(),\n",
    "        pl.col(\"tolls_amount\").sum(),\n",
    "        pl.col(\"tip_amount\").sum(),\n",
    "        pl.col(\"congestion_surcharge\").sum(),\n",
    "        pl.col(\"trip_distance\").mean()\n",
    "    ])\n",
    "    .sort(\"fare_amount\", reverse=True)\n",
    "    .limit(10)\n",
    ")\n",
    "print(res)\n",
    "print(f\"Runtime: {datetime.now() - start}\")"
   ]
  },
  {
   "cell_type": "markdown",
   "id": "127a2da9-9ccf-4ace-b249-649367b0f6be",
   "metadata": {},
   "source": [
    "## PySpark Pandas\n",
    "\n",
    "### Note: Restarted Kernel here."
   ]
  },
  {
   "cell_type": "code",
   "execution_count": 2,
   "id": "6f8ddc54-a078-44b4-8499-6a0d10a34b7c",
   "metadata": {},
   "outputs": [
    {
     "name": "stderr",
     "output_type": "stream",
     "text": [
      "/home/codespace/.python/current/lib/python3.10/site-packages/pyspark/pandas/utils.py:975: PandasAPIOnSparkAdviceWarning: If `index_col` is not specified for `read_parquet`, the default index is attached which can cause additional overhead.\n",
      "  warnings.warn(message, PandasAPIOnSparkAdviceWarning)\n"
     ]
    },
    {
     "name": "stdout",
     "output_type": "stream",
     "text": [
      "DF has 9071244 rows.\n"
     ]
    },
    {
     "name": "stderr",
     "output_type": "stream",
     "text": [
      "[Stage 11:===========================================>              (3 + 1) / 4]\r"
     ]
    },
    {
     "name": "stdout",
     "output_type": "stream",
     "text": [
      "                           total_amount  fare_amount  tolls_amount  tip_amount  congestion_surcharge  trip_distance\n",
      "PULocationID DOLocationID                                                                                          \n",
      "132          265              999767.75    843313.70      40627.84    91104.56                 775.0      21.489116\n",
      "264          264              934169.06    694876.74      17985.22   122516.65               49505.0       2.798411\n",
      "132          230              907339.59    661641.49      79032.16    97780.44               31515.0      18.320027\n",
      "             48               716210.62    527388.55      61830.82    73087.85               25145.0      19.112491\n",
      "107          140              485199.97    457340.21          6.55    10980.61               11380.0      28.126166\n",
      "237          236              743588.54    416130.20         30.65   102199.54              154310.0       1.090807\n",
      "236          237              669666.38    388055.32         26.21    91094.65              131405.0       1.645646\n",
      "132          132              463789.81    379919.64       7459.92    49350.00                 982.5       1.741092\n",
      "138          230              566962.72    368040.00      68523.69    78404.78               27047.5      10.486981\n",
      "132          164              508147.13    365589.50      45369.58    59594.00               17445.0      17.440484\n",
      "Runtime: 0:00:02.980145\n"
     ]
    },
    {
     "name": "stderr",
     "output_type": "stream",
     "text": [
      "                                                                                \r"
     ]
    }
   ],
   "source": [
    "from datetime import datetime\n",
    "\n",
    "from pyspark.pandas import read_parquet\n",
    "\n",
    "start = datetime.now()\n",
    "\n",
    "df = read_parquet(\"/workspaces/codespaces-jupyter/data/yellow_tripdata_2022-0*.parquet\")\n",
    "\n",
    "print(f\"DF has {len(df)} rows.\")\n",
    "\n",
    "res = (\n",
    "    df.groupby([\"PULocationID\", \"DOLocationID\"])\n",
    "    .agg(\n",
    "        {\n",
    "            \"total_amount\": \"sum\",\n",
    "            \"fare_amount\": \"sum\",\n",
    "            \"tolls_amount\": \"sum\",\n",
    "            \"tip_amount\": \"sum\",\n",
    "            \"congestion_surcharge\": \"sum\",\n",
    "            \"trip_distance\": \"mean\",\n",
    "        }\n",
    "    )\n",
    "    .sort_values(by=\"fare_amount\", ascending=False)\n",
    "    .head(10)\n",
    ")\n",
    "print(res)\n",
    "print(f\"Runtime: {datetime.now() - start}\")"
   ]
  }
 ],
 "metadata": {
  "kernelspec": {
   "display_name": "Python 3 (ipykernel)",
   "language": "python",
   "name": "python3"
  },
  "language_info": {
   "codemirror_mode": {
    "name": "ipython",
    "version": 3
   },
   "file_extension": ".py",
   "mimetype": "text/x-python",
   "name": "python",
   "nbconvert_exporter": "python",
   "pygments_lexer": "ipython3",
   "version": "3.10.8"
  }
 },
 "nbformat": 4,
 "nbformat_minor": 5
}
